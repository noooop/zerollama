{
 "cells": [
  {
   "cell_type": "markdown",
   "id": "f0addcfe-56cc-488c-9080-6d0ef6347a8f",
   "metadata": {},
   "source": [
    "# 1. ConversableAgent - 两个大模型相互对话"
   ]
  },
  {
   "cell_type": "markdown",
   "id": "205458c1-5cb6-41a2-9bce-0cce9a32c113",
   "metadata": {},
   "source": [
    "首先将zerollama目录加入python path"
   ]
  },
  {
   "cell_type": "code",
   "execution_count": 1,
   "id": "63069516-03f9-4d41-baf2-d0a35d618159",
   "metadata": {},
   "outputs": [],
   "source": [
    "import os\n",
    "import sys\n",
    "from pathlib import Path\n",
    "pwd = Path(os.getcwd())\n",
    "sys.path.append(str(pwd.parent.parent.parent))\n",
    "os.chdir(str(pwd.parent.parent.parent))"
   ]
  },
  {
   "cell_type": "markdown",
   "id": "8ec51bb2-2d46-49c6-813b-9986809ae80a",
   "metadata": {},
   "source": [
    "导入ConversableAgent、SummaryAgent、Session 后续会介绍"
   ]
  },
  {
   "cell_type": "code",
   "execution_count": 2,
   "id": "12ff77fc-a75a-4f38-a4e5-75e6fcfac489",
   "metadata": {},
   "outputs": [],
   "source": [
    "from zerollama.agents import ConversableAgent\n",
    "from zerollama.agents import SummaryAgent\n",
    "from zerollama.agents import Session"
   ]
  },
  {
   "cell_type": "markdown",
   "id": "ceaa639c-aa9e-4d9a-b474-a947e04371ba",
   "metadata": {},
   "source": [
    "设定 llm 参数"
   ]
  },
  {
   "cell_type": "code",
   "execution_count": 3,
   "id": "b86e41c8-73b0-4d1c-87d4-ecc2e0b17b0d",
   "metadata": {},
   "outputs": [],
   "source": [
    "llm_config = {\"model\": \"Qwen/Qwen2-7B-Instruct-GPTQ-Int4\", \"type\": \"openai\", \"base_url\": 'http://localhost:8080/v1/'}"
   ]
  },
  {
   "cell_type": "markdown",
   "id": "eb571a69-2a71-40d5-814e-0172ff5b1361",
   "metadata": {},
   "source": [
    "加入第一个llm驱动的角色：凯西，一位单口喜剧演员。"
   ]
  },
  {
   "cell_type": "code",
   "execution_count": 4,
   "id": "e16371d6-bb9d-44e9-b722-97045b814ea2",
   "metadata": {},
   "outputs": [],
   "source": [
    "cathy = ConversableAgent(\n",
    "    name=\"凯西\",\n",
    "    system_message=\n",
    "    \"你的名字是凯西，你是一位单口喜剧演员。\",\n",
    "    llm_config=llm_config,\n",
    ")"
   ]
  },
  {
   "cell_type": "markdown",
   "id": "77db7dde-429a-406c-bbf8-28933babd89e",
   "metadata": {},
   "source": [
    "加入第二个llm驱动的角色：乔，一位单口喜剧演员，注意使用一些提示词技巧让它接着上文把对话继续下去。"
   ]
  },
  {
   "cell_type": "code",
   "execution_count": 5,
   "id": "2aa3792b-7ca0-4441-af24-9a339bcb9417",
   "metadata": {},
   "outputs": [],
   "source": [
    "joe = ConversableAgent(\n",
    "    name=\"joe\",\n",
    "    system_message=\n",
    "    \"你的名字叫乔，你是一位单口喜剧演员。\"\n",
    "    \"从上一个笑话的妙语开始下一个笑话。\",\n",
    "    llm_config=llm_config,\n",
    ")"
   ]
  },
  {
   "cell_type": "markdown",
   "id": "bcd763e8-932d-4f5d-a6df-d9907b13b369",
   "metadata": {},
   "source": [
    "将cathy和joe加入拉进同一个会话"
   ]
  },
  {
   "cell_type": "code",
   "execution_count": 6,
   "id": "75417b34-66d6-47b9-bb10-258a010a5e03",
   "metadata": {},
   "outputs": [],
   "source": [
    "session = Session(participants=[joe, cathy])"
   ]
  },
  {
   "cell_type": "markdown",
   "id": "17e3c2b4-710d-4f7a-a2d4-b908f4f6979a",
   "metadata": {},
   "source": [
    "joe 先开始对话。（）必须人工开始对话，两个Agent拉进同一个会话不知道怎么开始对话。"
   ]
  },
  {
   "cell_type": "code",
   "execution_count": 7,
   "id": "5719f37a-c87a-458d-8505-a6699c5c92b1",
   "metadata": {},
   "outputs": [],
   "source": [
    "session.append((joe, \"我是乔。凯茜，让我们继续讲笑话吧。\"))"
   ]
  },
  {
   "cell_type": "markdown",
   "id": "82d14be3-2dae-4ba5-913f-da7a66bce3e8",
   "metadata": {},
   "source": [
    "进行两轮对话"
   ]
  },
  {
   "cell_type": "code",
   "execution_count": 8,
   "id": "e68ef34f-2414-4a43-a208-4022da0906bf",
   "metadata": {},
   "outputs": [
    {
     "name": "stdout",
     "output_type": "stream",
     "text": [
      "joe (round 0)\n",
      "\n",
      "我是乔。凯茜，让我们继续讲笑话吧。\n",
      "\n",
      "凯西 (round 0)\n",
      "\n",
      "很高兴再次见到你，乔！当你准备好了，或者想要听点什么来打发时间，随时告诉我。笑话永远是乐于分享的一部分！\n",
      "\n",
      "话说，有一次，一个原子走进了一家酒吧，想要成为“酒吧的新星”（atom），但店里的顾客都只是“闲聊”（phrased as a play on words, intended to be funny），“出粒子”（out of the ordinary）地欢迎她！在酒吧的舞台上，她开始了一夜的乐趣，作为“重点”（key party, a play on \"key\" as in the element and \"key\" as in \"party\"）高潮部分，她甚至“翻转原子”（flip-flopped），展示了她的多面魅力！但出乎意料的是，就在“互斥”的氛围（anticipating potentially clashing particles）中，她遇到了另一位原子，原本计划与她结成“核”（nuclear pun on \"core\"）情谊的，结果却像核反应一样，她在“时轴上”（on the timeline of her meeting）陷入了“死锁”（locked) 状态，他们的“相接触”（interaction, a play on \"interact\"）无法“更强大\n",
      "\n",
      "================================================================================\n",
      "joe (round 1)\n",
      "\n",
      "和“释放出电力”（spark electricity out）一样。最后，他们发现自己是彼此的“核心伴侣”（core companions），共同探索这个“无限宇宙”（infinite universe of possibilities）。这是一个关于原子的笑话，展示了如何在科学知识和幽默之间无缝结合，带来了意想不到的笑料。怎么样，这个笑话有趣吗？我们还能尝试其它类型的笑话或者聊些有趣的话题吗？\n",
      "\n",
      "凯西 (round 1)\n",
      "\n",
      "你的笑话真的很有创意，巧妙结合了科学知识与幽默，给人一种既新奇又愉快的感受。这是一种让理解与分享变得有趣的独特方式，展示了如何智慧行动与娱乐相结合。\n",
      "\n",
      "对于其他类型的笑话或者有趣的话题，当然可以！不论是关于日常生活的轻松轶事，还是专业的谜语和奇幻故事，或是讨论电影、音乐、科技等多样化的主题，我都可以积极参与并分享相关信息或笑话。只需要告诉我你的兴趣所在，我们就能够探索无穷的乐趣与知识。\n",
      "\n",
      "================================================================================\n"
     ]
    }
   ],
   "source": [
    "session.chat(max_turns=2)"
   ]
  },
  {
   "cell_type": "markdown",
   "id": "f5e85798-0c0c-4c42-acc6-9b4ed2bc2f16",
   "metadata": {},
   "source": [
    "由SummaryAgent总结对话"
   ]
  },
  {
   "cell_type": "code",
   "execution_count": 10,
   "id": "a7170473-2e84-496f-9182-9e0c5152b824",
   "metadata": {},
   "outputs": [
    {
     "name": "stdout",
     "output_type": "stream",
     "text": [
      "总结:\n",
      "这段对话是两位朋友，乔（Joes）和凯西（Kathy），在交谈中分享并讨论了一个结合科学与幽默的笑话。他们开始时简单地进行自我介绍，并约定对方可以在随时想要时分享笑话作为消遣或者话题的转移。随后，他们展开并分享了一个关于原子在一家酒吧里发生戏剧性故事的笑话，这个笑话融入了元素周期表中的元素与日常生活的趣味结合，融合了科学与幽默。\n",
      "\n",
      "乔在对话中总结道，这个笑话展示了如何将科学知识与幽默结合起来创造趣味性的故事，并特别注意到了笑话中的一些双关语和语言游戏用来制造笑话中的幽默感。这个笑话还巧妙地使用了“原子”、“酒吧”、“新星”、“聚变”（Nighttime high point）、“/dev/null” （play on \"flip\" as \"dev/null\" in computing）、“反冲”（Out of the Ordinary）、“冲突”（Clashing particles）、“实验互斥”（Antic peace if \"antic\" is anticlimactic），以及那奇妙的科幻故事般的结局（原子间相遇，形成“核心伴侣”，探索“无限宇宙”）。\n",
      "\n",
      "接下来的对话中，他们表达了兴趣在这种结合了\n"
     ]
    }
   ],
   "source": [
    "summary_agent = SummaryAgent(\n",
    "    system_message=\"总结下面对话\",\n",
    "    llm_config=llm_config)\n",
    "\n",
    "print(\"总结:\")\n",
    "print(summary_agent.summary(session))"
   ]
  },
  {
   "cell_type": "code",
   "execution_count": null,
   "id": "65eea76d-b103-408d-bac0-ed6584a2d741",
   "metadata": {},
   "outputs": [],
   "source": []
  }
 ],
 "metadata": {
  "kernelspec": {
   "display_name": "Python 3 (ipykernel)",
   "language": "python",
   "name": "python3"
  },
  "language_info": {
   "codemirror_mode": {
    "name": "ipython",
    "version": 3
   },
   "file_extension": ".py",
   "mimetype": "text/x-python",
   "name": "python",
   "nbconvert_exporter": "python",
   "pygments_lexer": "ipython3",
   "version": "3.11.9"
  }
 },
 "nbformat": 4,
 "nbformat_minor": 5
}
