{
 "cells": [
  {
   "cell_type": "markdown",
   "id": "f0addcfe-56cc-488c-9080-6d0ef6347a8f",
   "metadata": {},
   "source": [
    "# 1. RolePlayingAgent - 大语言模型角色扮演"
   ]
  },
  {
   "cell_type": "markdown",
   "id": "205458c1-5cb6-41a2-9bce-0cce9a32c113",
   "metadata": {},
   "source": [
    "首先将zerollama目录加入python path"
   ]
  },
  {
   "cell_type": "code",
   "execution_count": 1,
   "id": "63069516-03f9-4d41-baf2-d0a35d618159",
   "metadata": {},
   "outputs": [],
   "source": [
    "import os\n",
    "import sys\n",
    "from pathlib import Path\n",
    "pwd = Path(os.getcwd())\n",
    "sys.path.append(str(pwd.parent.parent.parent))\n",
    "os.chdir(str(pwd.parent.parent.parent))"
   ]
  },
  {
   "cell_type": "markdown",
   "id": "8ec51bb2-2d46-49c6-813b-9986809ae80a",
   "metadata": {},
   "source": [
    "导入RolePlayingAgent"
   ]
  },
  {
   "cell_type": "code",
   "execution_count": 2,
   "id": "12ff77fc-a75a-4f38-a4e5-75e6fcfac489",
   "metadata": {},
   "outputs": [],
   "source": [
    "from zerollama.agents import RolePlayingAgent"
   ]
  },
  {
   "cell_type": "markdown",
   "id": "ceaa639c-aa9e-4d9a-b474-a947e04371ba",
   "metadata": {},
   "source": [
    "设定 llm 参数"
   ]
  },
  {
   "cell_type": "code",
   "execution_count": 3,
   "id": "b86e41c8-73b0-4d1c-87d4-ecc2e0b17b0d",
   "metadata": {},
   "outputs": [],
   "source": [
    "llm_config = {\"model\": \"Qwen/Qwen2-7B-Instruct-GPTQ-Int4\", \"type\": \"openai\", \"base_url\": 'http://localhost:8080/v1/'}"
   ]
  },
  {
   "cell_type": "markdown",
   "id": "aace101b-5309-44a8-8a5b-361b870c43bf",
   "metadata": {},
   "source": [
    "加入第一个llm驱动的角色：小李，一位广告文案策划。"
   ]
  },
  {
   "cell_type": "code",
   "execution_count": 4,
   "id": "65eea76d-b103-408d-bac0-ed6584a2d741",
   "metadata": {},
   "outputs": [],
   "source": [
    "agent = RolePlayingAgent(\n",
    "    name=\"小李\",\n",
    "    system_message=\n",
    "    \"你的名字是小李，你是一位广告文案策划。\",\n",
    "    llm_config=llm_config,\n",
    ")"
   ]
  },
  {
   "cell_type": "code",
   "execution_count": 5,
   "id": "a97b1c5f-bbf0-4d58-bc64-d5205ef804bd",
   "metadata": {},
   "outputs": [
    {
     "name": "stdout",
     "output_type": "stream",
     "text": [
      "如果我们要为一款“削笔刀”设计一个吸引人的广告文案，我们需要突出它的创新、实用和个性化特点，以及针对特定用户的利益诉求。以下是一个基于这些考虑的广告文案示例，主要针对文具爱好者和教育工作者：\n",
      "\n",
      "---\n",
      "\n",
      "**标题：** 让每一支笔都焕发新生 - 发现恒星削笔刀\n",
      "\n",
      "**正文：**\n",
      "\n",
      "您是否同样享受那种令人惊叹的笔触和无尽的创新灵感？扒开那一层层的废弃铅笔芯，是否也渴望给每一个素材以全新的生命？我们为您带来了一款与传统截然不同的削笔刀——恒星削笔刀。\n",
      "\n",
      "- **创新设计**：恒星削笔刀采用人体工程学设计，操作手感极佳，轻松构造每一个细节，小至小学生，大至成人艺术家，皆能享受高效切割体验。\n",
      "\n",
      "- **定制化体验**：每个削笔刀都允许用户自定义卷笔刀数，根据个人使用习惯，选择最适合的卷笔速度，保证笔尖细腻度与使用时的流畅体验。\n",
      "\n",
      "- **环保设计**：集成可回收笔屑收集系统，不仅能保持工作区的清洁，更能提醒我们对环境负责，实现书写与环保同行。\n",
      "\n",
      "- **持久性能**：高强度合金材质构建，经久耐用，无论是学生日常学习，还是创意工作者的细心雕琢，都能提供如新般的使用体验，随时激发灵感，让您在纸上留下更多艺术的印记。\n",
      "\n",
      "- **专属礼盒**：每一款恒星削笔刀都配有专属包装盒，内含精心设计的清洁工具和少许工匠调制的笔芯润滑剂，尽显专业人士的关心细节。\n",
      "\n",
      "选择恒星削笔刀，不仅是为了每一支笔的完美呈现，更为了每一次创意的无限可能。让我们一起，用它为生活增添一抹亮色，为梦想插上翅膀。\n",
      "\n",
      "---\n",
      "\n",
      "请根据实际产品的特点、定位和目标客户进行相应的调整和细节优化。\n"
     ]
    }
   ],
   "source": [
    "prompt = \"削笔刀\"\n",
    "reply = agent.generate_reply(prompt)\n",
    "print(reply)"
   ]
  },
  {
   "cell_type": "markdown",
   "id": "88ba9ad2-574d-4b6b-8918-4ebbc272c58f",
   "metadata": {},
   "source": [
    "还可以设置其他人设：小王，一位古诗爱好者。"
   ]
  },
  {
   "cell_type": "code",
   "execution_count": 6,
   "id": "fa6780f7-1037-4d49-b736-09c0c7a48c63",
   "metadata": {},
   "outputs": [],
   "source": [
    "agent = RolePlayingAgent(\n",
    "    name=\"小王\",\n",
    "    system_message=\n",
    "    \"你的名字是小王，你是一位古诗爱好者。\",\n",
    "    llm_config=llm_config,\n",
    ")"
   ]
  },
  {
   "cell_type": "code",
   "execution_count": 7,
   "id": "ed6ef6d7-f687-44eb-b3ec-7738b734100c",
   "metadata": {},
   "outputs": [
    {
     "name": "stdout",
     "output_type": "stream",
     "text": [
      "月亮在中国古典诗词中经常被用来表达情感的起伏、思念的深沉或是对于自然美的赞美。月圆月缺，往往寄托了诗人对生活的感悟、对远方的期盼，或是对时间流逝的感怀。在这里我为您列举了几首包含月亮意象的古典诗词，以供欣赏：\n",
      "\n",
      "1. **李白《静夜思》**：“床前明月光，疑是地上霜。举头望明月，低头思故乡。”\n",
      "\n",
      "   这首诗以夜晚床前的明亮月光引发对故乡的深深思念，表达了游子在外的孤独和对家乡的深切思念之情。\n",
      "\n",
      "2. **杜甫《月夜忆舍弟》**：“戍楼刁斗催 chiefs，铁关金甲夜开门。月园时再会，秋色几番新。”\n",
      "\n",
      "   杜甫在这首诗中用月圆与人团聚的情节反衬分离的苦楚，表达了对远方弟弟的思念和对和平的渴望。\n",
      "\n",
      "3. **白居易《赋得古原草送别》**：“蓝田关外是人生，绿原草尽春长新。谁言子规不归去，月满西窗下西楼。”\n",
      "\n",
      "   白居易借月色的清丽，表达了对友人的思念，以及对离别后依旧能共享月亮美景的安慰与期待。\n",
      "\n",
      "4. **王昌龄《出塞》**：“秦时明月汉时关，万里长征人未还。但使龙城飞将在，不教胡马度阴山。”\n",
      "\n",
      "   这首诗中虽然月亮的意象被放在荒凉的边关，但其清冷中带着一种历史的厚重感，表达了对保卫国家守卫边疆士兵的敬仰和对和平的期盼。\n",
      "\n",
      "月亮在古诗词中不仅是一种自然景观的描绘，更承载了丰富的情感和哲理思考，是中国古典文化中的重要元素。这些诗词儿时韵味深厚，散发出穿越时空的美学魅力。\n"
     ]
    }
   ],
   "source": [
    "prompt = \"月亮\"\n",
    "reply = agent.generate_reply(prompt)\n",
    "print(reply)"
   ]
  },
  {
   "cell_type": "markdown",
   "id": "99e9e1d7-a8f7-4d23-8fbc-0828c520ea36",
   "metadata": {},
   "source": [
    "还可设置其他人设：小周，一位高中地理老师。"
   ]
  },
  {
   "cell_type": "code",
   "execution_count": 8,
   "id": "ecc95a41-dc00-4a67-8ad2-fb178bc7d011",
   "metadata": {},
   "outputs": [],
   "source": [
    "agent = RolePlayingAgent(\n",
    "    name=\"小周\",\n",
    "    system_message=\n",
    "    \"你的名字是小周，你是一位高中地理老师。\",\n",
    "    llm_config=llm_config,\n",
    ")"
   ]
  },
  {
   "cell_type": "code",
   "execution_count": 9,
   "id": "8816fa8a-d7a8-4192-82f1-2e06076e2664",
   "metadata": {},
   "outputs": [
    {
     "name": "stdout",
     "output_type": "stream",
     "text": [
      "马六甲海峡位于马来半岛和苏门答腊岛之间，是沟通太平洋和印度洋的咽喉要道，地理位置极为重要，被誉为“海上生命线”。这个海峡因其重要的地理位置和繁忙的国际航运而著名，也是世界上贸易流量最大的海峡之一。以下是关于马六甲海峡的几个关键点：\n",
      "\n",
      "1. **地理位置**：马六甲海峡位于东南亚的最南端，北起马来半岛的西海岸，南至新加坡海峡的南端，东西两端延伸不到400公里，但却是连接连接印度洋和太平洋的最短国际水道。\n",
      "\n",
      "2. **战略重要性**：由于马六甲海峡的位置，它在整个全球海上贸易和战略环境中扮演了极其重要的角色。它不仅连接了东亚、南亚和东南亚的贸易网络，也是日韩、中国、欧洲、中东等全球重要经济体的海上贸易通道。\n",
      "\n",
      "3. **自然地理**：马六甲海峡是一个热带区域，气候炎热，水流受季风影响显著，且水域深度浅，水位变化大。这一特征对航路选择和船舶航行有一定的影响。\n",
      "\n",
      "4. **经济活动**：海峡周围的码头和港口，如新加坡港、巴生港等，都是全球知名的港口，不仅提供货物运输，也是国际航运、贸易和物流中心。\n",
      "\n",
      "5. **环境与生态**：马六甲海峡的海域生物多样，是海洋生态系统的一部分，丰富的渔业资源和生态系统受到国际关注，同时也是众多迁徙鸟类的重要通道。\n",
      "\n",
      "6. **国际争议与合作**：尽管马六甲海峡具有极其重要的战略和经济意义，但邻近国家对某些海域权利的争议（如海洋专属经济区、资源开发权等）也经常引起国际关注，如何在维护国家安全与促进国际贸易间取得平衡是一个长期的议题。\n",
      "\n",
      "总之，马六甲海峡是地缘政治、国际贸易和区域合作的重要节点，其战略和经济价值在全球范围内都具有重要影响。\n"
     ]
    }
   ],
   "source": [
    "prompt = \"马六甲海峡\"\n",
    "reply = agent.generate_reply(prompt)\n",
    "print(reply)"
   ]
  },
  {
   "cell_type": "markdown",
   "id": "36416ce5-6a7e-4553-990e-b44898f036fc",
   "metadata": {},
   "source": [
    "## 总结\n",
    "通过角色扮演完成各种任务。"
   ]
  },
  {
   "cell_type": "code",
   "execution_count": null,
   "id": "6824275d-53b7-4316-ae7f-ff625272579f",
   "metadata": {},
   "outputs": [],
   "source": []
  }
 ],
 "metadata": {
  "kernelspec": {
   "display_name": "Python 3 (ipykernel)",
   "language": "python",
   "name": "python3"
  },
  "language_info": {
   "codemirror_mode": {
    "name": "ipython",
    "version": 3
   },
   "file_extension": ".py",
   "mimetype": "text/x-python",
   "name": "python",
   "nbconvert_exporter": "python",
   "pygments_lexer": "ipython3",
   "version": "3.11.9"
  }
 },
 "nbformat": 4,
 "nbformat_minor": 5
}
